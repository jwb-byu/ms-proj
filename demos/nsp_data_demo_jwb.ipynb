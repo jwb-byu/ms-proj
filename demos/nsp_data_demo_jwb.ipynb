{
 "cells": [
  {
   "cell_type": "markdown",
   "id": "845c51ac",
   "metadata": {},
   "source": [
    "# Neural Signal Processing Data Demonstration"
   ]
  },
  {
   "cell_type": "markdown",
   "id": "79b36ddc",
   "metadata": {},
   "source": [
    "Wesley Borden"
   ]
  },
  {
   "cell_type": "markdown",
   "id": "3e528601",
   "metadata": {},
   "source": [
    "The first objective of my MS project is to \"Increase understand of (a) basic neural signal processing, (b) current approaches for electrophysiology\n",
    "data processing and (c) general principles for existing related work in micro-connectomics\". After literature review, my goal to demonstrate this understanding was to build \"A revised/forked python package based on the International Brain Lab electrophysiology data processing python package(s), with a jupyter notebook tutorial demonstrating the neural signal processing tools\". While I studied the data processing pipelines implemented by these tools (e.g., kilosort, iblsorter) I identified that these pipelines included more steps than I could include in the scope of this deliverable. Therefore, here I demonstrate how pre-processed data from the International Brain Lab (IBL, a consortium leading basic science research in this space) can be accessed programmatically and understood conceptually, in preparation for the further analyses on which my project will focus."
   ]
  },
  {
   "cell_type": "markdown",
   "id": "5952ded3",
   "metadata": {},
   "source": [
    "## Setup"
   ]
  },
  {
   "cell_type": "markdown",
   "id": "d6692ffb",
   "metadata": {},
   "source": [
    "### Imports"
   ]
  },
  {
   "cell_type": "markdown",
   "id": "a26f7934",
   "metadata": {},
   "source": [
    "See this repository's `pyproject.toml`, `setup-deps.sh`, `Dockerfile`, and `.devcontainer/devcontainer.json` for dependency installation."
   ]
  },
  {
   "cell_type": "code",
   "execution_count": null,
   "id": "e6e52068",
   "metadata": {},
   "outputs": [],
   "source": [
    "import random\n",
    "\n",
    "from one.api import OneAlyx, ONE"
   ]
  },
  {
   "cell_type": "markdown",
   "id": "ae69a67a",
   "metadata": {},
   "source": [
    "### Helper Class, etc."
   ]
  },
  {
   "cell_type": "markdown",
   "id": "3956b0ff",
   "metadata": {},
   "source": [
    "IBL provides an api for access to all their data:"
   ]
  },
  {
   "cell_type": "code",
   "execution_count": null,
   "id": "45672d04",
   "metadata": {},
   "outputs": [],
   "source": [
    "one: OneAlyx = ONE( # Docs: https://int-brain-lab.github.io/ONE/\n",
    "    cache_dir=\"/Users/wesley/GitHub/BYU/ms-proj/tmp/one-cache\", # any directory where temporary files can be synced\n",
    "    base_url=\"https://openalyx.internationalbrainlab.org\", # base url for the API\n",
    "    password=\"international\", # public-access password\n",
    "    silent=True, # don't print progress, etc.\n",
    ") # type: ignore"
   ]
  },
  {
   "cell_type": "markdown",
   "id": "ad6c6a37",
   "metadata": {},
   "source": [
    "IBL has collected data from >450 experiments with >100 mice. Each in each experiment (session), mice are given behavioral tests while 1-2 Neuropixels probes record extracellular potentials associated with up hundreds of neurons. Data are organized by session and probe insertion, with a 1-to-many relationship between session and insertion. Accessible data is associated with the session (e.g., behavior) or an insertion (e.g., neural activity). The most recent data release is documented [here](https://figshare.com/articles/preprint/Data_release_-_Brainwide_map_-_Q4_2022/21400815?file=49286065)."
   ]
  },
  {
   "cell_type": "code",
   "execution_count": null,
   "id": "87bd1e51",
   "metadata": {},
   "outputs": [],
   "source": [
    "data_tag = \"2024_Q2_IBL_et_al_BWM_iblsort\" # tag for most recent data release ()\n",
    "all_sessions: list = one.search( # list of sessions\n",
    "    tag=data_tag,\n",
    "    query_type=\"remote\"\n",
    ") # type: ignore\n",
    "n_sessions = len(all_sessions)\n",
    "print(f'Session count: {n_sessions}')\n",
    "print(f'Session example: {all_sessions[0]}')\n",
    "\n",
    "all_insertions: list = one.search_insertions( # list of insertions\n",
    "    tag=data_tag,\n",
    "    query_type=\"remote\"\n",
    ") # type: ignore\n",
    "n_insertions = len(all_insertions)\n",
    "print(f'Insertion count: {n_insertions}')\n",
    "print(f'Insertion example: {all_insertions[0]}')"
   ]
  },
  {
   "cell_type": "markdown",
   "id": "909fdccd",
   "metadata": {},
   "source": [
    "### Choose an insertion to explore"
   ]
  },
  {
   "cell_type": "code",
   "execution_count": null,
   "id": "eb3e7ccb",
   "metadata": {},
   "outputs": [],
   "source": [
    "# We could randomly select a probe/insertion for data exploration\n",
    "i = random.randint(0, (n_insertions-1))\n",
    "pid = str(all_insertions[i])\n",
    "# However, we'll use the same one for consistency in this demo\n",
    "pid = str(all_insertions[534])\n",
    "# get the experimental session id and probe/insertion name\n",
    "eid, p_name = one.pid2eid(pid)\n",
    "\n",
    "print(f'Probe ID: {pid}')\n",
    "print(f'Probe Name: {p_name}')\n",
    "print(f'Experiment ID: {eid}')"
   ]
  },
  {
   "cell_type": "code",
   "execution_count": null,
   "id": "6c42121d",
   "metadata": {},
   "outputs": [],
   "source": []
  }
 ],
 "metadata": {
  "kernelspec": {
   "display_name": ".venv",
   "language": "python",
   "name": "python3"
  },
  "language_info": {
   "codemirror_mode": {
    "name": "ipython",
    "version": 3
   },
   "file_extension": ".py",
   "mimetype": "text/x-python",
   "name": "python",
   "nbconvert_exporter": "python",
   "pygments_lexer": "ipython3",
   "version": "3.13.2"
  }
 },
 "nbformat": 4,
 "nbformat_minor": 5
}
